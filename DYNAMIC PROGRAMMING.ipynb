{
 "cells": [
  {
   "cell_type": "markdown",
   "metadata": {},
   "source": [
    "# 0/1 Knapsack problem"
   ]
  },
  {
   "cell_type": "code",
   "execution_count": 5,
   "metadata": {},
   "outputs": [
    {
     "name": "stdout",
     "output_type": "stream",
     "text": [
      "1 2 3 4\n",
      "10 15 40 60\n",
      "4\n",
      "6\n"
     ]
    },
    {
     "data": {
      "text/plain": [
       "75"
      ]
     },
     "execution_count": 5,
     "metadata": {},
     "output_type": "execute_result"
    }
   ],
   "source": [
    "#Recursive solution of knapsack.\n",
    "\n",
    "def knapSack(wt,vl,W,n):\n",
    "    if n == 0 or W == 0:\n",
    "        return 0\n",
    "    \n",
    "    #If item is under the constraint of our knapsack capacity then we have to think that should we take that item or not\n",
    "    \n",
    "    if wt[n-1] <=  W:\n",
    "        return max(vl[n-1] + knapSack(wt,vl,W-wt[n-1],n-1) , knapSack(wt,vl,W,n-1))\n",
    "    elif wt[n-1] > W:\n",
    "        return knapSack(wt,vl,W,n-1)\n",
    "\n",
    "wt = [int(i) for i in  input().split()]\n",
    "vl = [int(i) for i in  input().split()]\n",
    "n = int(input())\n",
    "W = int(input())\n",
    "knapSack(wt,vl,W,n)"
   ]
  },
  {
   "cell_type": "code",
   "execution_count": 1,
   "metadata": {},
   "outputs": [
    {
     "name": "stdout",
     "output_type": "stream",
     "text": [
      "9 2 8 12 4\n",
      "15 30 7 25 10\n",
      "5\n",
      "25\n"
     ]
    },
    {
     "data": {
      "text/plain": [
       "70"
      ]
     },
     "execution_count": 1,
     "metadata": {},
     "output_type": "execute_result"
    }
   ],
   "source": [
    "#Memoization\n",
    "class Solution:\n",
    "    \n",
    "    def knapSackHelper(self,W, wt, val, n,dp):\n",
    "        #Base case\n",
    "        if n == 0 or W == 0:\n",
    "            return 0\n",
    "        \n",
    "        if dp[n][W] != -1:\n",
    "            return dp[n][W]\n",
    "        \n",
    "        \n",
    "        if wt[n-1] <= W:\n",
    "            dp[n][W] = max(val[n-1] + self.knapSackHelper(W-wt[n-1],wt,val,n-1,dp) , self.knapSackHelper(W,wt,val,n-1,dp))\n",
    "            return dp[n][W]\n",
    "        elif wt[n-1] > W:\n",
    "            dp[n][W] = self.knapSackHelper(W,wt,val,n-1,dp)\n",
    "            return dp[n][W]\n",
    "    \n",
    "    #Function to return max value that can be put in knapsack of capacity W.\n",
    "    def knapSack(self,W, wt, val, n):\n",
    "        dp = [[-1 for i in range(W+1)] for j in range(n+1)]\n",
    "        return self.knapSackHelper(W, wt, val, n,dp)\n",
    "        \n",
    "        \n",
    "s = Solution()\n",
    "\n",
    "wt = [int(i) for i in  input().split()]\n",
    "vl = [int(i) for i in  input().split()]\n",
    "n = int(input())\n",
    "W = int(input())\n",
    "s.knapSack(W,wt,vl,n)"
   ]
  },
  {
   "cell_type": "code",
   "execution_count": 5,
   "metadata": {},
   "outputs": [
    {
     "name": "stdout",
     "output_type": "stream",
     "text": [
      "1 2 3 5\n",
      "5 6 4 8\n",
      "4\n",
      "6\n"
     ]
    },
    {
     "data": {
      "text/plain": [
       "15"
      ]
     },
     "execution_count": 5,
     "metadata": {},
     "output_type": "execute_result"
    }
   ],
   "source": [
    "#Iterative top down solution of Knapsack problem\n",
    "\n",
    "class Solution: \n",
    "    def knapSackIter(self,W, wt, val, n):\n",
    "        dp = [[0 for i in range(W+1)] for j in range(n+1)]\n",
    "        for i in range(1,n+1):\n",
    "            for j in range(1,W+1):\n",
    "                if wt[i-1] <= j:\n",
    "                    dp[i][j] = max(val[i-1] + dp[i-1][j-wt[i-1]] , dp[i-1][j])\n",
    "                elif wt[i-1] > j:\n",
    "                    dp[i][j] = dp[i-1][j]\n",
    "        return dp[n][W]\n",
    "        \n",
    "        \n",
    "s = Solution()\n",
    "\n",
    "wt = [int(i) for i in  input().split()]\n",
    "vl = [int(i) for i in  input().split()]\n",
    "n = int(input())\n",
    "W = int(input())\n",
    "s.knapSackIter(W,wt,vl,n)"
   ]
  },
  {
   "cell_type": "markdown",
   "metadata": {},
   "source": [
    "# Subset sum Problem"
   ]
  },
  {
   "cell_type": "code",
   "execution_count": null,
   "metadata": {},
   "outputs": [],
   "source": [
    "#Recursive code\n",
    "class Solution:\n",
    "    \n",
    "  \n",
    "    def isSubsetSum (self, N, arr, sum):\n",
    "        if N == 0:\n",
    "            if sum == 0:\n",
    "                return True\n",
    "            else:\n",
    "                return False\n",
    "        if arr[N-1] <= sum:\n",
    "            return self.isSubsetSum(N-1,arr,sum - arr[N-1]) or self.isSubsetSum(N-1,arr,sum)\n",
    "        else:\n",
    "            return self.isSubsetSum(N-1,arr,sum)\n",
    "        \n",
    "        \n",
    "        # return dp[0]\n",
    "        # code here \n",
    "        "
   ]
  },
  {
   "cell_type": "code",
   "execution_count": null,
   "metadata": {},
   "outputs": [],
   "source": [
    "#Memoize code\n",
    "class Solution:\n",
    "    \n",
    "    def isSubsetSumHelper(self,N,arr,sum,dp):\n",
    "        if N == 0:\n",
    "            if sum == 0:\n",
    "                return True\n",
    "            else:\n",
    "                return False\n",
    "            \n",
    "        if dp[N][sum] != -1:\n",
    "            return dp[N][sum]\n",
    "        \n",
    "        if arr[N-1] <= sum:\n",
    "            dp[N][sum] = self.isSubsetSumHelper(N-1,arr,sum-arr[N-1],dp) or self.isSubsetSumHelper(N-1,arr,sum,dp)\n",
    "            return dp[N][sum]\n",
    "        else:\n",
    "            dp[N][sum] = self.isSubsetSumHelper(N-1,arr,sum,dp)\n",
    "            return dp[N][sum]\n",
    "    \n",
    "    def isSubsetSum (self, N, arr, sum):\n",
    "        dp = [[-1 for i in range(sum+1)]for j in range(N+1)]\n",
    "        return self.isSubsetSumHelper(N,arr,sum,dp)\n",
    "        # return dp[0]\n",
    "        # code here \n",
    "        "
   ]
  },
  {
   "cell_type": "code",
   "execution_count": null,
   "metadata": {},
   "outputs": [],
   "source": [
    "#Iterative top down approach\n",
    "class Solution:\n",
    "    def isSubsetSum (self, N, arr, sum):\n",
    "        dp = [[-1 for i in range(sum+1)] for j in range(N+1)]\n",
    "        \n",
    "        #Initialization of dp array\n",
    "        for i in range(sum):\n",
    "            dp[0][i] = False\n",
    "        for i in range(len(arr)):\n",
    "            dp[i][0] = True\n",
    "            \n",
    "        #we have to think in a subproblem manner like if we consider some cell which represents that array size and sum we want\n",
    "        #And we can think for that if arr has 1 element we can say if that element value <= sum we can consider it or not but\n",
    "        #if that element value > sum then we simply ignore it\n",
    "        \n",
    "        #As we did the initilization we have to start from where our array has 1 size and sum = 1 \n",
    "        \n",
    "        #Why we start from 0 and go till N + 1?\n",
    "        #Simple the first row and column is used for initilization and think like that if N = 4 and let say sum = 5\n",
    "        #so for each cell we say that if our array has N size which is denoted by row value i.e (i) and if our array has that\n",
    "        #sum which is column value right i.e (j) . It means we for last cell we encompass all the array size and total sum we\n",
    "        #want and if we go till N we can encounter the main problem .\n",
    "        for i in range(1,N+1):\n",
    "            for j in range(1,sum+1):\n",
    "                \n",
    "                if arr[i-1] <= j:\n",
    "                    dp[i][j] = dp[i-1][j - arr[i-1]]        or  dp[i-1][j]\n",
    "                                #here we consider that value   Here we not \n",
    "                else:\n",
    "                    dp[i][j] = dp[i-1][j]\n",
    "        return dp[N][sum]\n",
    "    \n"
   ]
  },
  {
   "cell_type": "markdown",
   "metadata": {},
   "source": [
    "# Equal Sum Partition Problem"
   ]
  },
  {
   "cell_type": "code",
   "execution_count": 1,
   "metadata": {},
   "outputs": [
    {
     "name": "stdout",
     "output_type": "stream",
     "text": [
      "1 2 5\n",
      "3\n"
     ]
    },
    {
     "data": {
      "text/plain": [
       "-1"
      ]
     },
     "execution_count": 1,
     "metadata": {},
     "output_type": "execute_result"
    }
   ],
   "source": [
    "#Here in that problem we simply use the above problem to solve it in above problem we have to check that in a given array and \n",
    "#sum as target we have to check if there is an subset of array having sum equal to target sum\n",
    "\n",
    "#Now in that problem we have an array and we have to check that can we do partition to our array in two parts such that we get \n",
    "#two half array having equal sum. Now in that problem we have to notice one thing that we only get two equal value if and only\n",
    "#if the value we have even value eg--> if we have an array sum = 22 then we can divide it in two parts 11 and 11 right .\n",
    "#BUt if we have 23 then it is impossible to get two half of the array right.\n",
    "#Now we can convert that problem to subset sum problem simply by dividing the whole array sum by 2 ok let say we have sum value \n",
    "#is 22 ok so we can check 22/2 = 11 in that array and if we get a subset of an array having 11 as sum we can say that we can \n",
    "#divide that array in two parts and we can return True\n",
    "\n",
    "class Solution:\n",
    "    def isSubsetSum (self, N, arr, sum):\n",
    "        dp = [[-1 for i in range(sum+1)] for j in range(N+1)]\n",
    "\n",
    "        #Initialization of dp array\n",
    "        for i in range(sum):\n",
    "            dp[0][i] = False\n",
    "        for i in range(len(arr)):\n",
    "            dp[i][0] = True\n",
    "        for i in range(1,N+1):\n",
    "            for j in range(1,sum+1):\n",
    "                if arr[i-1] <= j:\n",
    "                    dp[i][j] = dp[i-1][j - arr[i-1]]        or  dp[i-1][j]\n",
    "                                #here we consider that value   Here we not \n",
    "                else:\n",
    "                    dp[i][j] = dp[i-1][j]\n",
    "        return dp[N][sum]\n",
    "    \n",
    "    def equalPartition(self, N, arr):\n",
    "        if sum(arr) % 2 != 0:\n",
    "            return False\n",
    "        \n",
    "        else:\n",
    "            newsum = sum(arr) // 2\n",
    "            return self.isSubsetSum(N,arr,newsum)\n",
    "arr = [int(i) for i in  input().split()]\n",
    "n = int(input())\n",
    "s = Solution()\n",
    "s.equalPartition(n,arr)"
   ]
  },
  {
   "cell_type": "markdown",
   "metadata": {},
   "source": [
    "# Count of Subsets Sum with a Given Sum"
   ]
  },
  {
   "cell_type": "code",
   "execution_count": null,
   "metadata": {},
   "outputs": [],
   "source": [
    "#Similar to above problem with minor changes\n",
    "class Solution:\n",
    "    def counSubset(self,arr,sums,N):\n",
    "        dp = [[0 for i in range(sums+1)]for j in range(N+1)]\n",
    "        \n",
    "        for i in range(N+1):\n",
    "            dp[i][0] = 1\n",
    "            \n",
    "        for i in range(1,N+1):\n",
    "            for j in range(1,sums + 1):\n",
    "                if arr[i-1] <= j:\n",
    "                    dp[i][j] = dp[i-1][j] + dp[i-1][j-arr[i-1]]\n",
    "                else:\n",
    "                    dp[i][j] = dp[i-1][j]\n",
    "        return dp[N][sums]  % 1000000007 #Used to decrease the size of output\n",
    "    "
   ]
  },
  {
   "cell_type": "markdown",
   "metadata": {},
   "source": [
    "# Minimum sum partition"
   ]
  },
  {
   "cell_type": "code",
   "execution_count": 10,
   "metadata": {},
   "outputs": [
    {
     "name": "stdout",
     "output_type": "stream",
     "text": [
      "100000\n",
      "1\n"
     ]
    },
    {
     "data": {
      "text/plain": [
       "9223372036854775807"
      ]
     },
     "execution_count": 10,
     "metadata": {},
     "output_type": "execute_result"
    }
   ],
   "source": [
    "class Solution:\n",
    "    \n",
    "    def isSubsetSum (self, N, arr, sum):\n",
    "        dp = [[-1 for i in range(sum+1)] for j in range(N+1)]\n",
    "\n",
    "        #Initialization of dp array\n",
    "        for i in range(sum):\n",
    "            dp[0][i] = False\n",
    "        for i in range(len(arr)):\n",
    "            dp[i][0] = True\n",
    "        for i in range(1,N+1):\n",
    "            for j in range(1,sum+1):\n",
    "                if arr[i-1] <= j:\n",
    "                    dp[i][j] = dp[i-1][j - arr[i-1]]        or  dp[i-1][j]\n",
    "                                #here we consider that value   Here we not \n",
    "                else:\n",
    "                    dp[i][j] = dp[i-1][j]\n",
    "        validInputs = []\n",
    "        for i in range(sum//2+1):\n",
    "            if dp[N][i] == True:\n",
    "                validInputs.append(i)\n",
    "        return validInputs\n",
    "    def minDifference(self, arr, n):\n",
    "        # code her\n",
    "        ranges = sum(arr)\n",
    "        validInputs = self.isSubsetSum(n,arr,ranges)\n",
    "        mini = ranges\n",
    "\n",
    "        for i in validInputs:\n",
    "            mini = min(mini , ranges - 2*i)\n",
    "        return mini\n",
    "    \n",
    "nums = [int(i) for i in input().split()]\n",
    "n = int(input())\n",
    "s = Solution()\n",
    "s.minDifference(nums,n)"
   ]
  },
  {
   "cell_type": "markdown",
   "metadata": {},
   "source": [
    "# Count the number of subset with a given difference"
   ]
  },
  {
   "cell_type": "code",
   "execution_count": null,
   "metadata": {},
   "outputs": [],
   "source": [
    "class Solution:\n",
    "\n",
    "    def counSubset(self,arr,sums,N):\n",
    "        dp = [[0 for i in range(sums+1)]for j in range(N+1)]\n",
    "        \n",
    "        for i in range(N+1):\n",
    "            dp[i][0] = 1\n",
    "            \n",
    "        for i in range(1,N+1):\n",
    "            for j in range(1,sums + 1):\n",
    "                if arr[i-1] <= j:\n",
    "                    dp[i][j] = dp[i-1][j] + dp[i-1][j-arr[i-1]]\n",
    "                else:\n",
    "                    dp[i][j] = dp[i-1][j]\n",
    "        return dp[N][sums]  % 1000000007 #Used to decrease the size of output\n",
    "    \n",
    "    def counSubsetDiff(self,arr,diff):\n",
    "        #here we have to count how many two subsets are there whose difference is equal to the difference given\n",
    "        #so if s1 is 1st partition and s2 is 2nd partition then we can say s1 + s2 = array_sum it means for a given partition\n",
    "        #there should be a unique partition to get given difference i.e if sum = 7 and diff = 1 then we only have one choice\n",
    "        #to get 1 as a difference which is 4 and 3 and no partition can be made to get diff 1 right. so we can break our problem\n",
    "        #such that if we come to know about any one partition let suppose we know that for a given array we need 4 as our one \n",
    "        #partition then it is obvious that ==> array_sum - 4(1st partition) = 1(given diff) and if know how many subsets are \n",
    "        #there whose sum == 4 then we can say that is our answer right think logically for that.\n",
    "        #now to solve problem that how we know about the partition value we have to do some mathematics by making an equation\n",
    "        #1) s1 - s2 = diff \n",
    "        #2) s1 + s2 = array_sum\n",
    "        #and if we do addition of these two equation then s2 is get cancelled right and we get:-\n",
    "        #  2s1 = (diff + array_sum) ==> s1 = (diff + array_sum)//2 so from that we get 1st partition\n",
    "        #Now we can use Count of Subsets Sum with a Given Sum code to get number of subsets having subset equal to s1 and that \n",
    "        #is the solution\n",
    "        \n",
    "        \n",
    "        array_sum = sum(arr)\n",
    "        s1 = (diff + array_sum)//2\n",
    "        return self.counSubset(arr,s1,len(arr))"
   ]
  },
  {
   "cell_type": "markdown",
   "metadata": {},
   "source": [
    "# Target Sum"
   ]
  },
  {
   "cell_type": "code",
   "execution_count": 14,
   "metadata": {},
   "outputs": [
    {
     "name": "stdout",
     "output_type": "stream",
     "text": [
      "9,7,0,3,9,8,6,5,7,6\n",
      "2\n"
     ]
    },
    {
     "data": {
      "text/plain": [
       "37"
      ]
     },
     "execution_count": 14,
     "metadata": {},
     "output_type": "execute_result"
    }
   ],
   "source": [
    "class Solution:\n",
    " \n",
    "    def findTargetSumWays(self, nums: List[int], target: int) -> int:\n",
    "        dp = {}\n",
    "        def CountTarget(nums,target,pos,sums):\n",
    "            if pos == len(nums):\n",
    "                return target == sums\n",
    "\n",
    "            if (pos,sums) in dp:\n",
    "                return dp[(pos,sums)]\n",
    "\n",
    "            dp[(pos,sums)] = CountTarget(nums,target,pos+1,sums+nums[pos]) + CountTarget(nums,target,pos+1,sums-nums[pos])\n",
    "        \n",
    "            return dp[(pos,sums)]\n",
    "        return CountTarget(nums,target,0,0)"
   ]
  },
  {
   "cell_type": "markdown",
   "metadata": {},
   "source": [
    "# Unbounded Knapsack Variation problem"
   ]
  },
  {
   "cell_type": "raw",
   "metadata": {},
   "source": [
    "Q1)what is unbounded knapsack ?\n",
    "ans:- Unbounded means that there is not limitations in order to process some element or instance what it means so let see you try to rob some jewellery shop right and there you see lot of things like gold , platinum , diamond and you have a fixed capacity and you have to rob in such a way that you get maximum profit from it right . Now you say it is same as knapsack right\n",
    "but now i give you one flexibility which is that you can take any item n number of times the only thing your bag capacity is fixed means the most expensive thing is diamond and you only pick diamonds such that you get more profit it means you are unbounded you can take any thing n number of times i think it should be clear now we will talk about some problem and see how it can be solved using unbounded knapsack\n"
   ]
  },
  {
   "cell_type": "markdown",
   "metadata": {},
   "source": [
    "# Unbounded Knapsack code for further refernce of code"
   ]
  },
  {
   "cell_type": "code",
   "execution_count": 2,
   "metadata": {},
   "outputs": [
    {
     "name": "stdout",
     "output_type": "stream",
     "text": [
      "1 2 3 4\n",
      "2 4 5 6\n",
      "4\n",
      "5\n"
     ]
    },
    {
     "data": {
      "text/plain": [
       "10"
      ]
     },
     "execution_count": 2,
     "metadata": {},
     "output_type": "execute_result"
    }
   ],
   "source": [
    "#Iterative top down solution of Knapsack problem\n",
    "\n",
    "class Solution: \n",
    "    def UnboundedknapSackIter(self,W, wt, val, n):\n",
    "        dp = [[0 for i in range(W+1)] for j in range(n+1)]\n",
    "        for i in range(1,n+1):\n",
    "            for j in range(1,W+1):\n",
    "                if wt[i-1] <= j: #It means the item i want to rob should be less than equal to our knapsack capacity\n",
    "                    dp[i][j] = max(val[i-1] + dp[i][j-wt[i-1]] , dp[i-1][j])\n",
    "                    #Here is the code change see that we have two choices one to take item in consideration n number of times\n",
    "                    #another is to not take that item simply neglect\n",
    "                elif wt[i-1] > j:\n",
    "                    dp[i][j] = dp[i-1][j]\n",
    "        return dp[n][W]\n",
    "        \n",
    "        \n",
    "s = Solution()\n",
    "\n",
    "wt = [int(i) for i in  input().split()] #item weight\n",
    "vl = [int(i) for i in  input().split()] #each item value\n",
    "n = int(input()) #Number of items we can take for process\n",
    "W = int(input()) #Capacity of knapsack\n",
    "s.UnboundedknapSackIter(W,wt,vl,n)"
   ]
  },
  {
   "cell_type": "markdown",
   "metadata": {},
   "source": [
    "# Rod cutting problem"
   ]
  },
  {
   "cell_type": "code",
   "execution_count": null,
   "metadata": {},
   "outputs": [],
   "source": [
    "class Solution:\n",
    "    def cutRod(self, price, n):\n",
    "        #code here\n",
    "        dp = [[0 for i in range(n+1)] for j in range(n+1)]\n",
    "        length = [(i+1) for i in range(n) ]\n",
    "        for i in range(1,n+1):\n",
    "            for j in range(1,n+1):\n",
    "                if length[i-1] <= j: #It means the item i want to rob should be less than equal to our knapsack capacity\n",
    "                    dp[i][j] = max(price[i-1] + dp[i][j-length[i-1]] , dp[i-1][j])\n",
    "                    #Here is the code change see that we have two choices one to take item in consideration n number of times\n",
    "                    #another is to not take that item simply neglect\n",
    "                elif length[i-1] > j:\n",
    "                    dp[i][j] = dp[i-1][j]\n",
    "        return dp[n][W]\n"
   ]
  },
  {
   "cell_type": "markdown",
   "metadata": {},
   "source": [
    "# Min Coin Change "
   ]
  },
  {
   "cell_type": "code",
   "execution_count": null,
   "metadata": {},
   "outputs": [],
   "source": [
    "#In this problem we have to find how many minimum number of coin is required to form the target sum\n",
    "import sys\n",
    "def minCoinChange(coin , sums):\n",
    "    dp = [[(sys.maxsize) for i in range(sums+1)]for j in range(len(coin)+1)]\n",
    "        #Initialize 1st column\n",
    "        for i in range(1,len(coin)+1):\n",
    "            dp[i][0] = 0\n",
    "\n",
    "        dp[0][0] = 0\n",
    "\n",
    "        #main code for dp which is similar to the unbounded knapsack\n",
    "        for i in range(1,len(coin) +1 ):\n",
    "            for j in range(1,sums+1):\n",
    "                if coin[i-1] <= j:\n",
    "                    dp[i][j] = min(1+dp[i][j -coin[i-1]] , dp[i-1][j])\n",
    "                else:\n",
    "                    dp[i][j] = dp[i-1][j]\n",
    "\n",
    "        if dp[len(coin)][sums] == sys.maxsize:\n",
    "            return -1\n",
    "        return dp[len(coin)][sums]\n",
    "\n",
    "coin = [1,2,5]\n",
    "minCoinChange(coin,6)"
   ]
  },
  {
   "cell_type": "markdown",
   "metadata": {},
   "source": [
    "# Longest Common Subsequence"
   ]
  },
  {
   "cell_type": "code",
   "execution_count": null,
   "metadata": {},
   "outputs": [],
   "source": [
    "#LONGEST COMMON SUBSEQUENCE PROBLEM IN DYNAMIC PROGRMMING THROUGH RECURSION\n",
    "def lcs(s, t,i,j) :\n",
    "    #Your code goes here\n",
    "    if i >= len(s) or j >= len(t):\n",
    "        return 0\n",
    "    \n",
    "    if s[i] == t[j]:\n",
    "        ans = 1 + lcs(s,t,i+1,j+1)\n",
    "    else:\n",
    "        ans =  max(lcs(s,t,i+1,j),lcs(s,t,i,j+1))\n",
    "\n",
    "    return ans\n",
    "\n",
    "#main\n",
    "s = input()\n",
    "t = input()\n",
    "print(lcs(s, t,0,0))"
   ]
  },
  {
   "cell_type": "code",
   "execution_count": null,
   "metadata": {},
   "outputs": [],
   "source": [
    "\n",
    "#LONGEST COMMON SUBSEQUENCE PROBLEM IN DYNAMIC PROGRMMING THROUGH RECURSION WITH MEMOIZATION \n",
    "\n",
    "def lcs_memo(s,t,i,j,dp):\n",
    "    if i == len(s) or j == len(t):\n",
    "        return 0\n",
    "    \n",
    "    if s[i] == t[j]:\n",
    "        if dp[i+1][j+1] == -1:\n",
    "            small_ans = lcs_memo(s,t,i+1,j+1,dp)\n",
    "            dp[i+1][j+1] = small_ans\n",
    "            ans = 1 + small_ans\n",
    "        else:\n",
    "            ans = 1 + dp[i+1][j+1]\n",
    "    else:\n",
    "        if dp[i+1][j] == -1:\n",
    "            ans1 = lcs_memo(s,t,i+1,j,dp)\n",
    "            dp[i+1][j] = ans1\n",
    "        else:\n",
    "            ans1 = dp[i+1][j]\n",
    "        \n",
    "        if dp[i][j+1] == -1:\n",
    "            ans2 = lcs_memo(s,t,i,j+1,dp)\n",
    "            dp[i][j+1] = ans2\n",
    "        else:\n",
    "            ans2 = dp[i][j+1]\n",
    "        \n",
    "        ans = max(ans1 , ans2)\n",
    "    return ans\n",
    "    \n",
    "s = 'bdcaba'\n",
    "t = 'abcbdasd'\n",
    "n= len(s)\n",
    "m = len(t)\n",
    "dp = [[-1 for j in range(m+1)] for i in range(n+1)]\n",
    "print(lcs_memo(s, t,0,0,dp))"
   ]
  },
  {
   "cell_type": "code",
   "execution_count": 1,
   "metadata": {},
   "outputs": [
    {
     "name": "stdout",
     "output_type": "stream",
     "text": [
      "4\n"
     ]
    }
   ],
   "source": [
    "##LONGEST COMMON SUBSEQUENCE PROBLEM IN DYNAMIC PROGRMMING THROUGH MEMOIZATION IN ITERATIVE BOTTOM UP APPROCH.\n",
    "def lsc_memo_iter(s,t,i,j):\n",
    "    n = len(s)\n",
    "    m = len(t)\n",
    "    dp = [[0 for i in range(m+1)] for j in range(n+1)]\n",
    "    for i in range(n-1,-1,-1):\n",
    "        for j in range(m-1,-1,-1):\n",
    "            if s[i] == t[j]:\n",
    "                dp[i][j] = 1 + dp[i+1][j+1]\n",
    "            else:\n",
    "                dp[i][j] = max(dp[i+1][j] , dp[i][j+1])\n",
    "    return dp[0][0]             \n",
    "\n",
    "s = 'bdcaba'\n",
    "t = 'abcbdasd'\n",
    "print(lsc_memo_iter(s,t,0,0))"
   ]
  },
  {
   "cell_type": "markdown",
   "metadata": {},
   "source": [
    "# Longest Common Substring"
   ]
  },
  {
   "cell_type": "code",
   "execution_count": null,
   "metadata": {},
   "outputs": [],
   "source": [
    "class Solution:\n",
    "    def lsc_memo_iter(self,s,t,i,j):\n",
    "        n = len(s)\n",
    "        m = len(t)\n",
    "        maxi = -9999\n",
    "        dp = [[0 for i in range(m+1)] for j in range(n+1)]\n",
    "        for i in range(n-1,-1,-1):\n",
    "            for j in range(m-1,-1,-1):\n",
    "                if s[i] == t[j]:\n",
    "                    dp[i][j] = 1 + dp[i+1][j+1]\n",
    "                    maxi = max(dp[i][j]  , maxi)\n",
    "                else:\n",
    "                    dp[i][j] = 0\n",
    "                    maxi = max(dp[i][j]  , maxi)\n",
    "        return maxi\n",
    "    def longestCommonSubstr(self, S1, S2, n, m):\n",
    "        # code here\n",
    "        return self.lsc_memo_iter(S1,S2,0,0)\n",
    "    \n",
    "s1 = input()"
   ]
  },
  {
   "cell_type": "markdown",
   "metadata": {},
   "source": [
    "# Shortest common subsequence"
   ]
  },
  {
   "cell_type": "code",
   "execution_count": 1,
   "metadata": {},
   "outputs": [
    {
     "name": "stdout",
     "output_type": "stream",
     "text": [
      "9\n"
     ]
    }
   ],
   "source": [
    "##LONGEST COMMON SUBSEQUENCE PROBLEM IN DYNAMIC PROGRMMING THROUGH MEMOIZATION IN ITERATIVE BOTTOM UP APPROCH.\n",
    "def lsc_memo_iter(s,t):\n",
    "    n = len(s)\n",
    "    m = len(t)\n",
    "    dp = [[0 for i in range(m+1)] for j in range(n+1)]\n",
    "    for i in range(n-1,-1,-1):\n",
    "        for j in range(m-1,-1,-1):\n",
    "            if s[i] == t[j]:\n",
    "                dp[i][j] = 1 + dp[i+1][j+1]\n",
    "            else:\n",
    "                dp[i][j] = max(dp[i+1][j] , dp[i][j+1])\n",
    "\n",
    "    return len(s) + len(t) - dp[0][0]\n",
    "\n",
    "s = 'AGGTAB'\n",
    "t = 'GXTXAYB'\n",
    "print(lsc_memo_iter(s,t))"
   ]
  },
  {
   "cell_type": "markdown",
   "metadata": {},
   "source": [
    "# Minimum operation to convert string A to string B"
   ]
  },
  {
   "cell_type": "code",
   "execution_count": null,
   "metadata": {},
   "outputs": [],
   "source": [
    "class Solution:\n",
    "    def lsc_memo_iter(self,s,t):\n",
    "        n = len(s)\n",
    "        m = len(t)\n",
    "        dp = [[0 for i in range(m+1)] for j in range(n+1)]\n",
    "        for i in range(n-1,-1,-1):\n",
    "            for j in range(m-1,-1,-1):\n",
    "                if s[i] == t[j]:\n",
    "                    dp[i][j] = 1 + dp[i+1][j+1]\n",
    "                else:\n",
    "                    dp[i][j] = max(dp[i+1][j] , dp[i][j+1])\n",
    "        return dp[0][0]\n",
    "    def minOperations(self, s1, s2):\n",
    "        # code here\n",
    "        common = self.lsc_memo_iter(s1,s2)\n",
    "        return ( ( len(s1) - common ) + (len(s2) - common) )\n",
    "    "
   ]
  },
  {
   "cell_type": "markdown",
   "metadata": {},
   "source": [
    "# Longest Palindromic Subsequence"
   ]
  },
  {
   "cell_type": "code",
   "execution_count": 4,
   "metadata": {},
   "outputs": [
    {
     "name": "stdout",
     "output_type": "stream",
     "text": [
      "geeksforgeeks\n"
     ]
    },
    {
     "data": {
      "text/plain": [
       "5"
      ]
     },
     "execution_count": 4,
     "metadata": {},
     "output_type": "execute_result"
    }
   ],
   "source": [
    "class Solution:\n",
    "    def lsc_memo_iter(self,s,t):\n",
    "            n = len(s)\n",
    "            m = len(t)\n",
    "            dp = [[0 for i in range(m+1)] for j in range(n+1)]\n",
    "            for i in range(n-1,-1,-1):\n",
    "                for j in range(m-1,-1,-1):\n",
    "                    if s[i] == t[j]:\n",
    "                        dp[i][j] = 1 + dp[i+1][j+1]\n",
    "                    else:\n",
    "                        dp[i][j] = max(dp[i+1][j] , dp[i][j+1])\n",
    "            return dp[0][0]\n",
    "    def longestPalinSubseq(self, S):\n",
    "        # code here\n",
    "        S1 = S[::-1]\n",
    "        return self.lsc_memo_iter(S,S1)\n",
    "st = input()\n",
    "s = Solution()\n",
    "s.longestPalinSubseq(st)"
   ]
  },
  {
   "cell_type": "markdown",
   "metadata": {},
   "source": [
    "# Minimum number of deletion in a string to make it a palindrome"
   ]
  },
  {
   "cell_type": "code",
   "execution_count": null,
   "metadata": {},
   "outputs": [],
   "source": [
    "class Solution:\n",
    "    def lsc_memo_iter(self,s,t):\n",
    "            n = len(s)\n",
    "            m = len(t)\n",
    "            dp = [[0 for i in range(m+1)] for j in range(n+1)]\n",
    "            for i in range(n-1,-1,-1):\n",
    "                for j in range(m-1,-1,-1):\n",
    "                    if s[i] == t[j]:\n",
    "                        dp[i][j] = 1 + dp[i+1][j+1]\n",
    "                    else:\n",
    "                        dp[i][j] = max(dp[i+1][j] , dp[i][j+1])\n",
    "            return dp[0][0]\n",
    "    def minimumNumberOfDeletions(self,S):\n",
    "        # code here \n",
    "        S1 = S[::-1]\n",
    "        return len(S) -  self.lsc_memo_iter(S,S1)"
   ]
  },
  {
   "cell_type": "markdown",
   "metadata": {},
   "source": [
    "# Print shortest common Supersequence"
   ]
  },
  {
   "cell_type": "code",
   "execution_count": 3,
   "metadata": {},
   "outputs": [
    {
     "name": "stdout",
     "output_type": "stream",
     "text": [
      "babad\n",
      "dabab\n"
     ]
    },
    {
     "data": {
      "text/plain": [
       "'dababad'"
      ]
     },
     "execution_count": 3,
     "metadata": {},
     "output_type": "execute_result"
    }
   ],
   "source": [
    "class Solution:\n",
    "    def lsc_memo_iter(self,s,t):\n",
    "            n = len(s)\n",
    "            m = len(t)\n",
    "            dp = [[0 for i in range(m+1)] for j in range(n+1)]\n",
    "            for i in range(n-1,-1,-1):\n",
    "                for j in range(m-1,-1,-1):\n",
    "                    if s[i] == t[j]:\n",
    "                        dp[i][j] = 1 + dp[i+1][j+1]\n",
    "                    else:\n",
    "                        dp[i][j] = max(dp[i+1][j] , dp[i][j+1])\n",
    "            return dp\n",
    "        \n",
    "    def printLCS(self,s,t):\n",
    "        dp = self.lsc_memo_iter(s,t)\n",
    "        ans = ''\n",
    "        i = 0\n",
    "        j = 0\n",
    "        while i < len(s) and j < len(t):\n",
    "                if s[i] == t[j]:\n",
    "                    ans += s[i]\n",
    "                    i += 1\n",
    "                    j += 1\n",
    "                else:\n",
    "                    if dp[i+1][j] > dp[i][j+1]:\n",
    "                        ans += s[i]\n",
    "                        i += 1\n",
    "                    else:\n",
    "                        ans += t[j]\n",
    "                        j += 1\n",
    "        while i < len(s):\n",
    "            ans += s[i]\n",
    "            i += 1\n",
    "        \n",
    "        while j < len(t):\n",
    "            ans += t[j]\n",
    "            j += 1\n",
    "            \n",
    "        \n",
    "        return ans\n",
    "        \n",
    "        \n",
    "st1 = input()\n",
    "st2 = input()\n",
    "s = Solution()\n",
    "s.printLCS(st1,st2)"
   ]
  },
  {
   "cell_type": "markdown",
   "metadata": {},
   "source": [
    "# Longest repeating subsequence"
   ]
  },
  {
   "cell_type": "code",
   "execution_count": null,
   "metadata": {},
   "outputs": [],
   "source": [
    "#Concept is first we have to find a subsequence which means discontinuous sequence having character comes more that twice ok\n",
    "#Here we can say that in a string a character is said to be repeating if in the string a character is present at different \n",
    "#position with same value eg :- string \"abaabs\" here see a is present at 0,2,3 position it means it is repeated bt s is not coz\n",
    "#it is not found other than the index position of 5 . So we use longest common subsequence with a condition that if two character\n",
    "#are equal they must have different index values.\n",
    "class Solution:\n",
    "    def LongestRepeatingSubsequence(self, s):\n",
    "        # Code here\n",
    "        t = s\n",
    "        n = len(s)\n",
    "        m = len(t)\n",
    "        dp = [[0 for i in range(m+1)] for j in range(n+1)]\n",
    "        for i in range(n-1,-1,-1):\n",
    "            for j in range(m-1,-1,-1):\n",
    "                if s[i] == t[j] and i != j:\n",
    "                    dp[i][j] = 1 + dp[i+1][j+1]\n",
    "                else:\n",
    "                    dp[i][j] = max(dp[i+1][j] , dp[i][j+1])\n",
    "        return dp[0][0]"
   ]
  },
  {
   "cell_type": "markdown",
   "metadata": {},
   "source": [
    "# Minimum number of insertion to make it palindrome"
   ]
  },
  {
   "cell_type": "code",
   "execution_count": null,
   "metadata": {},
   "outputs": [],
   "source": [
    "#It is same as minimum number of deletion to make it palindrome \n",
    "class Solution:\n",
    "    def lsc_memo_iter(self,s,t):\n",
    "            n = len(s)\n",
    "            m = len(t)\n",
    "            dp = [[0 for i in range(m+1)] for j in range(n+1)]\n",
    "            for i in range(n-1,-1,-1):\n",
    "                for j in range(m-1,-1,-1):\n",
    "                    if s[i] == t[j]:\n",
    "                        dp[i][j] = 1 + dp[i+1][j+1]\n",
    "                    else:\n",
    "                        dp[i][j] = max(dp[i+1][j] , dp[i][j+1])\n",
    "            return dp[0][0]\n",
    "    def minimumNumberOfInsertion(self,S):\n",
    "        # code here \n",
    "        S1 = S[::-1]\n",
    "        return len(S) -  self.lsc_memo_iter(S,S1)"
   ]
  },
  {
   "cell_type": "markdown",
   "metadata": {},
   "source": [
    "# MAtrix Chain Multiplication"
   ]
  },
  {
   "cell_type": "code",
   "execution_count": 1,
   "metadata": {},
   "outputs": [],
   "source": [
    "class Solution:\n",
    "    \n",
    "  \n",
    "    def mcm(self,p,i,j,dp):\n",
    "        if i == j:  #It means there is only one matrix and to multiply that one matrix there is no cost for it.\n",
    "            return 0\n",
    "        \n",
    "        mincost = sys.maxsize\n",
    "        for k in range(i,j):\n",
    "            if dp[i][k] == -1:\n",
    "                ans1 = self.mcm(p,i,k,dp)\n",
    "                dp[i][k] = ans1\n",
    "            else:\n",
    "                ans1 = dp[i][k]\n",
    "                \n",
    "            if dp[k+1][j] == -1:\n",
    "                ans2 = self.mcm(p,k+1,j,dp)\n",
    "                dp[k+1][j] = ans2\n",
    "            else:\n",
    "                ans2 = dp[k+1][j]\n",
    "                \n",
    "            extra_cost = p[i-1]*p[k]*p[j]\n",
    "            curr_cost = ans1 + ans2 + extra_cost\n",
    "            mincost = min(mincost,curr_cost)\n",
    "            \n",
    "        return mincost\n",
    "   \n",
    "    def matrixMultiplication(self, n, arr):\n",
    "        n = n-1\n",
    "        dp = [[-1 for i in range(n+1)] for j in range(n+1)]\n",
    "        return self.mcm(arr,1,n,dp)"
   ]
  },
  {
   "cell_type": "markdown",
   "metadata": {},
   "source": [
    "# Palindrome Partitioning 2"
   ]
  },
  {
   "cell_type": "code",
   "execution_count": 1,
   "metadata": {},
   "outputs": [
    {
     "name": "stdout",
     "output_type": "stream",
     "text": [
      "abcd\n",
      "[['a', 'b', 'c', 'd']]\n",
      "0 0\n",
      "0 1\n",
      "0 2\n",
      "0 3\n"
     ]
    },
    {
     "data": {
      "text/plain": [
       "[['a', 'b', 'c', 'd']]"
      ]
     },
     "execution_count": 1,
     "metadata": {},
     "output_type": "execute_result"
    }
   ],
   "source": [
    "class Solution:\n",
    "    \n",
    "    def isPalindrome(self,s,i,j):\n",
    "        while i < j:\n",
    "            if s[i] == s[j]:\n",
    "                i += 1\n",
    "                j -= 1\n",
    "            else:\n",
    "                return False\n",
    "        return True\n",
    "    \n",
    "    \n",
    "    def partitionHelper(self,s,index,ans,path):\n",
    "        if index == len(s):\n",
    "            ans.append(path[:])\n",
    "            return\n",
    "        \n",
    "        for i in range(index,len(s)):\n",
    "            if self.isPalindrome(s,index,i):\n",
    "                path.append(s[index:i+1])\n",
    "                self.partitionHelper(s,i+1,ans,path)\n",
    "                path.pop()\n",
    "                \n",
    "    def partition(self, s):\n",
    "        ans = []\n",
    "        path = []\n",
    "        self.partitionHelper(s,0,ans,path)\n",
    "        maxans = ''\n",
    "        print(ans)\n",
    "        for i in range(len(ans)):\n",
    "            for j in range(len(ans[0])):\n",
    "                print(i,j)\n",
    "                maxans = max(ans[i][j],maxans)\n",
    "        return ans\n",
    "       \n",
    "s = Solution()\n",
    "st = input()\n",
    "s.partition(st)"
   ]
  },
  {
   "cell_type": "markdown",
   "metadata": {},
   "source": [
    "# Scrambled String"
   ]
  },
  {
   "cell_type": "code",
   "execution_count": null,
   "metadata": {},
   "outputs": [],
   "source": [
    "class Solution:\n",
    "    def solve(self,a,b,d):\n",
    "        if a == b:\n",
    "            return True\n",
    "        \n",
    "        if len(a) <= 1:\n",
    "            return False\n",
    "        \n",
    "        if (a,b) in d:\n",
    "            return d[(a,b)]\n",
    "        \n",
    "        flag = False\n",
    "        n = len(a)\n",
    "        for i in range(1,n):\n",
    "            if self.solve(a[0:i],b[0:i],d) and self.solve(a[i:],b[i:],d) or self.solve(a[0:i],b[n-i:],d) and self.solve(a[i:],b[0:n-i],d):\n",
    "                flag = True\n",
    "                d[(a,b)] = True\n",
    "                break\n",
    "            else:\n",
    "                d[(a,b)] = False\n",
    "        return flag\n",
    "    \n",
    "    def isScramble(self, s1,s2):\n",
    "        if len(s1) != len(s2):\n",
    "            return False\n",
    "        \n",
    "        if s1 == s2:\n",
    "            return True\n",
    "        \n",
    "        return self.solve(s1,s2,{})"
   ]
  },
  {
   "cell_type": "markdown",
   "metadata": {},
   "source": [
    "# Egg Dropping problem"
   ]
  },
  {
   "cell_type": "code",
   "execution_count": null,
   "metadata": {},
   "outputs": [],
   "source": [
    "import sys\n",
    "class Solution:\n",
    "    \n",
    "    def Helper(self,e,n,dp):\n",
    "        if e == 1 or n == 1 or n == 0:\n",
    "            return n\n",
    "        \n",
    "        ans = sys.maxsize\n",
    "        if dp[n][e] != -1:\n",
    "            return dp[n][e]\n",
    "        for k in range(1,n+1):\n",
    "            if dp[k-1][e-1] != -1:\n",
    "                ans1 =  dp[k-1][e-1]\n",
    "            else:\n",
    "                dp[k-1][e-1] = self.Helper(e-1,k-1,dp)\n",
    "                ans1 = dp[k-1][e-1]\n",
    "                \n",
    "            # print(e,n-k)\n",
    "            if dp[n-k][e] != -1:\n",
    "                ans2 = dp[n-k][e]\n",
    "            else:\n",
    "                dp[n-k][e] = self.Helper(e,n-k,dp)\n",
    "                ans2 = dp[n-k][e]\n",
    "                \n",
    "            temp_ans = 1 + max(ans1,ans2)\n",
    "            ans =  min(temp_ans,ans)\n",
    "            \n",
    "        \n",
    "        dp[n][e] =  ans\n",
    "        return ans\n",
    "    \n",
    "    def superEggDrop(self, e, n):\n",
    "        dp = [[-1 for i in range(100+1)]for j in range(10000+1)]\n",
    "        return self.Helper(e,n,dp)\n",
    "        "
   ]
  }
 ],
 "metadata": {
  "kernelspec": {
   "display_name": "Python 3",
   "language": "python",
   "name": "python3"
  },
  "language_info": {
   "codemirror_mode": {
    "name": "ipython",
    "version": 3
   },
   "file_extension": ".py",
   "mimetype": "text/x-python",
   "name": "python",
   "nbconvert_exporter": "python",
   "pygments_lexer": "ipython3",
   "version": "3.9.6"
  }
 },
 "nbformat": 4,
 "nbformat_minor": 4
}
